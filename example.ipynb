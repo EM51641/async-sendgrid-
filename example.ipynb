{
 "cells": [
  {
   "cell_type": "code",
   "execution_count": 14,
   "metadata": {},
   "outputs": [],
   "source": [
    "from async_sendgrid import SendgridAPI\n",
    "from sendgrid.helpers.mail import Content, Email, Mail, To\n",
    "import os\n",
    "\n",
    "# WARNING: This is an example. In production:\n",
    "# 1. Never hardcode API keys in your code\n",
    "# 2. Use environment variables or secure secret management\n",
    "# 3. Store API keys in .env files (not committed to version control)\n",
    "# 4. Consider using a secrets manager service\n",
    "API_KEY = \"SG.123\"\n",
    "sendgrid = SendgridAPI(API_KEY, endpoint=\"https://api.sendgrid.com/v3/mail/send\")"
   ]
  },
  {
   "cell_type": "code",
   "execution_count": 15,
   "metadata": {},
   "outputs": [],
   "source": [
    "from_email = Email(\"test@example.com\")\n",
    "to_email = To(\"test@example.com\")\n",
    "subject = \"Lorem ipsum dolor sit amet, consectetur adipiscing elit\"\n",
    "content = Content(\"text/plain\", \"Sed varius ligula ac urna vehicula ultrices. Nunc ut dolor sem.\")\n",
    "\n",
    "email = Mail(\n",
    "    from_email=from_email,\n",
    "    to_emails=to_email,\n",
    "    subject=subject,\n",
    "    plain_text_content=content\n",
    "    )"
   ]
  },
  {
   "cell_type": "code",
   "execution_count": 16,
   "metadata": {},
   "outputs": [
    {
     "name": "stdout",
     "output_type": "stream",
     "text": [
      "Status code: 401\n",
      "Headers: Headers({'server': 'nginx', 'date': 'Sat, 14 Jun 2025 23:44:26 GMT', 'content-type': 'application/json', 'content-length': '116', 'connection': 'keep-alive', 'access-control-allow-origin': 'https://sendgrid.api-docs.io', 'access-control-allow-methods': 'POST', 'access-control-allow-headers': 'Authorization, Content-Type, On-behalf-of, x-sg-elas-acl', 'access-control-max-age': '600', 'x-no-cors-reason': 'https://sendgrid.com/docs/Classroom/Basics/API/cors.html', 'strict-transport-security': 'max-age=31536000; includeSubDomains', 'content-security-policy': \"frame-ancestors 'none'\", 'cache-control': 'no-cache', 'x-content-type-options': 'no-sniff', 'referrer-policy': 'strict-origin-when-cross-origin'})\n",
      "Body: b'{\"errors\":[{\"message\":\"The provided authorization grant is invalid, expired, or revoked\",\"field\":null,\"help\":null}]}'\n"
     ]
    }
   ],
   "source": [
    "# We will get a 401 error because we are not using a valid API key\n",
    "\n",
    "response = await sendgrid.send(email)\n",
    "print(\"Status code:\", response.status_code)\n",
    "print(\"Headers:\", response.headers)\n",
    "print(\"Body:\", response.content)"
   ]
  }
 ],
 "metadata": {
  "kernelspec": {
   "display_name": ".venv",
   "language": "python",
   "name": "python3"
  },
  "language_info": {
   "codemirror_mode": {
    "name": "ipython",
    "version": 3
   },
   "file_extension": ".py",
   "mimetype": "text/x-python",
   "name": "python",
   "nbconvert_exporter": "python",
   "pygments_lexer": "ipython3",
   "version": "3.13.4"
  },
  "orig_nbformat": 4
 },
 "nbformat": 4,
 "nbformat_minor": 2
}
