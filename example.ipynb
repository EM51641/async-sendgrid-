{
 "cells": [
  {
   "cell_type": "code",
   "execution_count": 5,
   "metadata": {},
   "outputs": [
    {
     "ename": "ImportError",
     "evalue": "cannot import name 'SendgridAPI' from 'async_sendgrid' (/Users/emahjoub/Desktop/Projects/async-sendgrid/.venv/lib/python3.12/site-packages/async_sendgrid/__init__.py)",
     "output_type": "error",
     "traceback": [
      "\u001b[0;31m---------------------------------------------------------------------------\u001b[0m",
      "\u001b[0;31mImportError\u001b[0m                               Traceback (most recent call last)",
      "Cell \u001b[0;32mIn[5], line 1\u001b[0m\n\u001b[0;32m----> 1\u001b[0m \u001b[38;5;28;01mfrom\u001b[39;00m \u001b[38;5;21;01masync_sendgrid\u001b[39;00m \u001b[38;5;28;01mimport\u001b[39;00m SendgridAPI\n\u001b[1;32m      2\u001b[0m \u001b[38;5;28;01mfrom\u001b[39;00m \u001b[38;5;21;01msendgrid\u001b[39;00m\u001b[38;5;21;01m.\u001b[39;00m\u001b[38;5;21;01mhelpers\u001b[39;00m\u001b[38;5;21;01m.\u001b[39;00m\u001b[38;5;21;01mmail\u001b[39;00m \u001b[38;5;28;01mimport\u001b[39;00m Content, Email, Mail, To\n\u001b[1;32m      3\u001b[0m \u001b[38;5;28;01mimport\u001b[39;00m \u001b[38;5;21;01mos\u001b[39;00m\n",
      "\u001b[0;31mImportError\u001b[0m: cannot import name 'SendgridAPI' from 'async_sendgrid' (/Users/emahjoub/Desktop/Projects/async-sendgrid/.venv/lib/python3.12/site-packages/async_sendgrid/__init__.py)"
     ]
    }
   ],
   "source": [
    "from async_sendgrid import SendgridAPI\n",
    "from sendgrid.helpers.mail import Content, Email, Mail, To\n",
    "import os\n",
    "\n",
    "API_KEY = os.environ['API_KEY']\n",
    "sendgrid = SendgridAPI(API_KEY)"
   ]
  },
  {
   "cell_type": "code",
   "execution_count": null,
   "metadata": {},
   "outputs": [],
   "source": [
    "from_email = Email(\"test@example.com\")\n",
    "to_email = To(\"test@example.com\")\n",
    "subject = \"Lorem ipsum dolor sit amet, consectetur adipiscing elit\"\n",
    "content = Content(\"text/plain\", \"Sed varius ligula ac urna vehicula ultrices. Nunc ut dolor sem.\")\n",
    "\n",
    "mail = Mail(\n",
    "    from_email=from_email,\n",
    "    to_emails=to_email,\n",
    "    subject=subject,\n",
    "    plain_text_content=content\n",
    "    )"
   ]
  },
  {
   "cell_type": "code",
   "execution_count": null,
   "metadata": {},
   "outputs": [],
   "source": [
    "async with sendgrid as client:\n",
    "    response = await client.send(mail)"
   ]
  }
 ],
 "metadata": {
  "kernelspec": {
   "display_name": ".venv",
   "language": "python",
   "name": "python3"
  },
  "language_info": {
   "codemirror_mode": {
    "name": "ipython",
    "version": 3
   },
   "file_extension": ".py",
   "mimetype": "text/x-python",
   "name": "python",
   "nbconvert_exporter": "python",
   "pygments_lexer": "ipython3",
   "version": "3.12.2"
  },
  "orig_nbformat": 4
 },
 "nbformat": 4,
 "nbformat_minor": 2
}
